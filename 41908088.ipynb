{
 "cells": [
  {
   "cell_type": "markdown",
   "metadata": {},
   "source": [
    "# IT Support Professional Certification"
   ]
  },
  {
   "cell_type": "markdown",
   "metadata": {},
   "source": [
    "## Technical Support Fundamental"
   ]
  },
  {
   "cell_type": "markdown",
   "metadata": {},
   "source": [
    "---"
   ]
  },
  {
   "cell_type": "markdown",
   "metadata": {},
   "source": [
    "# Intro to IT"
   ]
  },
  {
   "cell_type": "markdown",
   "metadata": {},
   "source": [
    "## Introduction"
   ]
  },
  {
   "cell_type": "markdown",
   "metadata": {},
   "source": [
    "Computers are everywhere."
   ]
  },
  {
   "cell_type": "markdown",
   "metadata": {},
   "source": [
    "Information Technology(IT)  \n",
    "The use of digital technology, like computers and the Internet, to store and process data into useful information. "
   ]
  },
  {
   "cell_type": "markdown",
   "metadata": {},
   "source": [
    "Internet is really about people, that's the heart and soul of IT support."
   ]
  },
  {
   "cell_type": "markdown",
   "metadata": {},
   "source": [
    "There are thousands of companies around the world searching for IT professionals like you!"
   ]
  },
  {
   "cell_type": "markdown",
   "metadata": {},
   "source": [
    "## History of computing"
   ]
  },
  {
   "cell_type": "markdown",
   "metadata": {},
   "source": [
    "Computer  \n",
    "A device that stores and processes data by performing calculations."
   ]
  },
  {
   "cell_type": "markdown",
   "metadata": {},
   "source": [
    "The first major step forward was the invention of the mechanical calculator in the 17th century."
   ]
  },
  {
   "cell_type": "markdown",
   "metadata": {},
   "source": [
    "Algorithm  \n",
    "A series of steps that solve specific problems."
   ]
  },
  {
   "cell_type": "markdown",
   "metadata": {},
   "source": [
    "Cryptography  \n",
    "The art of writing and solving codes."
   ]
  },
  {
   "cell_type": "markdown",
   "metadata": {},
   "source": [
    "Hopper compilers made it possible to translate human language via a program."
   ]
  },
  {
   "cell_type": "markdown",
   "metadata": {},
   "source": [
    "Computers didn't always have to be all work and no play they were a great source of entertainment--this was an important milestone for the computing."
   ]
  },
  {
   "cell_type": "markdown",
   "metadata": {},
   "source": [
    "Open source  \n",
    "Anyone could modify and share it."
   ]
  },
  {
   "cell_type": "markdown",
   "metadata": {},
   "source": [
    "Binary system  \n",
    "The communication that a computer uses,also known as a base-2 numeral system."
   ]
  },
  {
   "cell_type": "markdown",
   "metadata": {},
   "source": [
    "We group binary into 8 numbers or bits.  \n",
    "A group of 8 bits is referred to as a byte.  \n",
    "Each byte can store one character, and we can have 256 possible values thanks to the base-2 system."
   ]
  },
  {
   "cell_type": "markdown",
   "metadata": {},
   "source": [
    "## Digital Logic"
   ]
  },
  {
   "cell_type": "markdown",
   "metadata": {},
   "source": [
    "Character encoding  \n",
    "Assigns our binary values to characters, so that we as humans can read them."
   ]
  },
  {
   "cell_type": "markdown",
   "metadata": {},
   "source": [
    "UTF-8  \n",
    "the most prevalent encoding standard used today"
   ]
  },
  {
   "cell_type": "markdown",
   "metadata": {},
   "source": [
    "Logic gates  \n",
    "Allow our transistors to do more complex tasks, like decide where to send electrical signals depending on logical conditions."
   ]
  },
  {
   "cell_type": "markdown",
   "metadata": {},
   "source": [
    "## Computer Architecture Layer"
   ]
  },
  {
   "cell_type": "markdown",
   "metadata": {},
   "source": [
    "Abstraction  \n",
    "To take a relatively complex system and simplify it for our use."
   ]
  },
  {
   "cell_type": "markdown",
   "metadata": {},
   "source": [
    "Hardware layer  \n",
    "Made up of the physical components of a computer."
   ]
  },
  {
   "cell_type": "markdown",
   "metadata": {},
   "source": [
    "Operating system  \n",
    "Allows hardware to communicate with the system."
   ]
  },
  {
   "cell_type": "markdown",
   "metadata": {},
   "source": [
    "Software layer  \n",
    "How we as humans interact with our computer."
   ]
  },
  {
   "cell_type": "markdown",
   "metadata": {},
   "source": [
    "User  \n",
    "Interacts with the computer."
   ]
  },
  {
   "cell_type": "markdown",
   "metadata": {},
   "source": [
    "# Hardware"
   ]
  },
  {
   "cell_type": "markdown",
   "metadata": {},
   "source": [
    "## The Modern Computer"
   ]
  },
  {
   "cell_type": "markdown",
   "metadata": {},
   "source": [
    "Ports  \n",
    "Connection points that we can connect devices to that extend the functionality of our computer."
   ]
  },
  {
   "cell_type": "markdown",
   "metadata": {},
   "source": [
    "CPU  \n",
    "(Central Processing Unit)  \n",
    "The brain of our computer, it does all the calculations and data processing."
   ]
  },
  {
   "cell_type": "markdown",
   "metadata": {},
   "source": [
    "RAM  \n",
    "(Random Access Memory)  \n",
    "Our computer's short-term memory"
   ]
  },
  {
   "cell_type": "markdown",
   "metadata": {},
   "source": [
    "Hard drive  \n",
    "Holds all of our data, which includes all of our music, pictures, applications."
   ]
  },
  {
   "cell_type": "markdown",
   "metadata": {},
   "source": [
    "Programs  \n",
    "Instructions that tell the computer what to do."
   ]
  },
  {
   "cell_type": "markdown",
   "metadata": {},
   "source": [
    "There are 3 different cache levels in a CPU: L1, L2, L3.  \n",
    "L1 is the smallest and fastest cache."
   ]
  },
  {
   "cell_type": "markdown",
   "metadata": {},
   "source": [
    "Clock speed  \n",
    "The maximum number of clock cycles that it can handle in a certain time period."
   ]
  },
  {
   "cell_type": "markdown",
   "metadata": {},
   "source": [
    "## Components"
   ]
  },
  {
   "cell_type": "markdown",
   "metadata": {},
   "source": [
    "When you select your CPU, you'll need to make sure it's compatible with your motherboard--the circuit board that connects all your components together."
   ]
  },
  {
   "cell_type": "markdown",
   "metadata": {},
   "source": [
    "There are lots of types of RAM, and the one that's commonly found in computers is DRAM, or dynamic random-access memory."
   ]
  },
  {
   "cell_type": "markdown",
   "metadata": {},
   "source": [
    "In today's system, we use another type of RAM, called double data rate SDRAM or DDR SDRAM for short."
   ]
  },
  {
   "cell_type": "markdown",
   "metadata": {},
   "source": [
    "Peripherals  \n",
    "External devices we connect to our computer, like a mouse, keyboard, and monitor.  \n",
    "Anything that you connect to your computer externally that adds functionality."
   ]
  },
  {
   "cell_type": "markdown",
   "metadata": {},
   "source": [
    "Wattage  \n",
    "The amount of volts and amps that a device needs.  \n",
    "You can power most basic desktops with a 500W power supply."
   ]
  },
  {
   "cell_type": "markdown",
   "metadata": {},
   "source": [
    "## The modern computer"
   ]
  },
  {
   "cell_type": "markdown",
   "metadata": {},
   "source": [
    "Module Introduction"
   ]
  },
  {
   "cell_type": "markdown",
   "metadata": {},
   "source": [
    "# Operating System"
   ]
  },
  {
   "cell_type": "markdown",
   "metadata": {},
   "source": [
    "## What's an operating System?"
   ]
  },
  {
   "cell_type": "markdown",
   "metadata": {},
   "source": [
    "Operating system  \n",
    "The whole package that manages our computer's resources and lets us interact with it."
   ]
  },
  {
   "cell_type": "markdown",
   "metadata": {},
   "source": [
    "Our kernel optimizes memory usage and makes sure our applications have enough memory to run."
   ]
  },
  {
   "cell_type": "markdown",
   "metadata": {},
   "source": [
    "I/O management  \n",
    "Anything that can give us input, or that we can use for output of data."
   ]
  },
  {
   "cell_type": "markdown",
   "metadata": {},
   "source": [
    "We write data to our hard drive in the form of data blocks."
   ]
  },
  {
   "cell_type": "markdown",
   "metadata": {},
   "source": [
    "Block storage  \n",
    "Improves faster handling of data because the data isn't stored as one long piece and can be accessed quicker."
   ]
  },
  {
   "cell_type": "markdown",
   "metadata": {},
   "source": [
    "File extension  \n",
    "The appended part of a filename that tells us what type of file it is in certain operating systems."
   ]
  },
  {
   "cell_type": "markdown",
   "metadata": {},
   "source": [
    "Process  \n",
    "A program that's executing, like our internet browser or text editor."
   ]
  },
  {
   "cell_type": "markdown",
   "metadata": {},
   "source": [
    "Program  \n",
    "An application that we can run, like Chrome."
   ]
  },
  {
   "cell_type": "markdown",
   "metadata": {},
   "source": [
    "Time slice  \n",
    "A very short interval of time that gets allocated to a process for CPU execution."
   ]
  },
  {
   "cell_type": "markdown",
   "metadata": {},
   "source": [
    "Kernel  \n",
    "Creates processes, efficiently schedules them, and manages how processes are terminated."
   ]
  },
  {
   "cell_type": "markdown",
   "metadata": {},
   "source": [
    "Virtual memory  \n",
    "The combination of hard drive space and RAM that acts like memory that our processes can use."
   ]
  },
  {
   "cell_type": "markdown",
   "metadata": {},
   "source": [
    "I/O devices  \n",
    "Devices that perform input and output."
   ]
  },
  {
   "cell_type": "markdown",
   "metadata": {},
   "source": [
    "Shell  \n",
    "A program that interprets text commands and sends them to the OS to execute."
   ]
  },
  {
   "cell_type": "markdown",
   "metadata": {},
   "source": [
    "Logs  \n",
    "Files that record system events on our computer, just like a system's diary."
   ]
  },
  {
   "cell_type": "markdown",
   "metadata": {},
   "source": [
    "BIOS/UEFI  \n",
    "A low-level software that initializes our computer's hardware to makesure everything is good to go."
   ]
  },
  {
   "cell_type": "markdown",
   "metadata": {},
   "source": [
    "Bootloader  \n",
    "A small program that loads the operating system."
   ]
  },
  {
   "cell_type": "markdown",
   "metadata": {},
   "source": [
    "## Installing an Operating System"
   ]
  },
  {
   "cell_type": "markdown",
   "metadata": {},
   "source": [
    "The operating systems in use by an organization have  a lot to do with the applications and systems that they need to run."
   ]
  },
  {
   "cell_type": "markdown",
   "metadata": {},
   "source": [
    "Virtual machine  \n",
    "Just a copy of a real machine."
   ]
  },
  {
   "cell_type": "markdown",
   "metadata": {},
   "source": [
    "# Networking"
   ]
  },
  {
   "cell_type": "markdown",
   "metadata": {},
   "source": [
    "## What is networking?"
   ]
  },
  {
   "cell_type": "markdown",
   "metadata": {},
   "source": [
    "The Internet  \n",
    "The physical connection of computers and wires around the world."
   ]
  },
  {
   "cell_type": "markdown",
   "metadata": {},
   "source": [
    "The Web  \n",
    "The information on the Internet."
   ]
  },
  {
   "cell_type": "markdown",
   "metadata": {},
   "source": [
    "Router  \n",
    "Connects lots of different devices together and helps route network traffic."
   ]
  },
  {
   "cell_type": "markdown",
   "metadata": {},
   "source": [
    "Network stack  \n",
    "A set of hardware or software that provides the infrastructure for a computer."
   ]
  },
  {
   "cell_type": "markdown",
   "metadata": {},
   "source": [
    "## Limitations of the Internet"
   ]
  },
  {
   "cell_type": "markdown",
   "metadata": {},
   "source": [
    "Network Address Translation(NAT)  \n",
    "Lets organizations use one public IP address and many private IP addresses within the network."
   ]
  },
  {
   "cell_type": "markdown",
   "metadata": {},
   "source": [
    "## Impact of the Internet"
   ]
  },
  {
   "cell_type": "markdown",
   "metadata": {},
   "source": [
    "Globalization  \n",
    "The movement that lets governments, businesses, and organizations communicate and intergrate together on an international scale,"
   ]
  },
  {
   "cell_type": "markdown",
   "metadata": {},
   "source": [
    "# Software"
   ]
  },
  {
   "cell_type": "markdown",
   "metadata": {},
   "source": [
    "## Intro to Software  "
   ]
  },
  {
   "cell_type": "markdown",
   "metadata": {},
   "source": [
    "Coding  \n",
    "Translating one language to another."
   ]
  },
  {
   "cell_type": "markdown",
   "metadata": {},
   "source": [
    "Scripting  \n",
    "Coding in a scripting language."
   ]
  },
  {
   "cell_type": "markdown",
   "metadata": {},
   "source": [
    "Scripts  \n",
    "Mainly used to perform a single or limited range task."
   ]
  },
  {
   "cell_type": "markdown",
   "metadata": {},
   "source": [
    "Programming  \n",
    "Coding in a programming language."
   ]
  },
  {
   "cell_type": "markdown",
   "metadata": {},
   "source": [
    "Programming languages  \n",
    "Special languages that software developers use to write instructions for computers to execute."
   ]
  },
  {
   "cell_type": "markdown",
   "metadata": {},
   "source": [
    "Copyright  \n",
    "Used when creating original work."
   ]
  },
  {
   "cell_type": "markdown",
   "metadata": {},
   "source": [
    "Application software  \n",
    "Any software created to fulfill a specific need, like a text editor, web browser, or graphic editor."
   ]
  },
  {
   "cell_type": "markdown",
   "metadata": {},
   "source": [
    "System software  \n",
    "Software used to keep our core system running, like operating system tools and utilities."
   ]
  },
  {
   "cell_type": "markdown",
   "metadata": {},
   "source": [
    "Firmware  \n",
    "Software that's permanently stored on a computer component."
   ]
  },
  {
   "cell_type": "markdown",
   "metadata": {},
   "source": [
    "Assembly language  \n",
    "Allowed computer scientists to use human readable instructions, assembled into code, that the machines could understand."
   ]
  },
  {
   "cell_type": "markdown",
   "metadata": {},
   "source": [
    "Compiled programming languages  \n",
    "Uses human readable instructions, then sends them through a compiler."
   ]
  },
  {
   "cell_type": "markdown",
   "metadata": {},
   "source": [
    "## Interacting with Software"
   ]
  },
  {
   "cell_type": "markdown",
   "metadata": {},
   "source": [
    "Software bug  \n",
    "An error in software that causes unexpected results."
   ]
  },
  {
   "cell_type": "markdown",
   "metadata": {},
   "source": [
    "Git  \n",
    "A version control system that helps keep track of changes to files and directories."
   ]
  },
  {
   "cell_type": "markdown",
   "metadata": {},
   "source": [
    ".exe  \n",
    "A file extension found in Windows for an executable file."
   ]
  },
  {
   "cell_type": "markdown",
   "metadata": {},
   "source": [
    "Automation  \n",
    "Makes processes work automatically."
   ]
  },
  {
   "cell_type": "markdown",
   "metadata": {},
   "source": [
    "# Troubleshooting Best Practices"
   ]
  },
  {
   "cell_type": "markdown",
   "metadata": {},
   "source": [
    "## Troubleshooting Best Practices"
   ]
  },
  {
   "cell_type": "markdown",
   "metadata": {},
   "source": [
    "Troubleshooting  \n",
    "The ability to diagnose and resolve a program."
   ]
  },
  {
   "cell_type": "markdown",
   "metadata": {},
   "source": [
    "IT Support is about working in the service of others.Always try to create a positive experience for the user."
   ]
  },
  {
   "cell_type": "markdown",
   "metadata": {},
   "source": [
    "Root cause  \n",
    "The main factor that's causing a range of issues."
   ]
  },
  {
   "attachments": {
    "image.png": {
     "image/png": "[encoded data removed]"
    }
   },
   "cell_type": "markdown",
   "metadata": {},
   "source": [
    "![image.png](attachment:image.png)"
   ]
  },
  {
   "cell_type": "markdown",
   "metadata": {},
   "source": [
    "Root cause is the main factor that's causing a range of issues. Finding your causes a critical concept in IT support because it means that you're able to prevent an issue from happening again and again to multiple users. Sometimes the root cause can be difficult to find an extremely obscure. Don't give up if it isn't immediately obvious. Discovering root cause may be tedious, but it's well worth the effort. Now let's take a look at a not so good. And a good example of isolating the problem.\n",
    "## for example:  \n",
    "My computer is broken. Can you tell me a little bit more about how it's broken? Does it turn on at all? Has there been any damage to it lately that when I hit the power button I hear a ding? But nothing comes up on screen OK.  \n",
    "OK. What's going on here? You know what the brightness was turned down. These brightness buttons are a little bit fiddly and it's easy to him by accident. So there you are. Great, thank you. You're welcome.   "
   ]
  },
  {
   "cell_type": "markdown",
   "metadata": {},
   "source": [
    "If we didn't ask follow up questions we wouldn't have realized the issue is something a small screen going dim. It's important that you're able to gather enough information to start troubleshooting an issue, whether it's big or small. With a little digging, were able to understand the situation and effectively troubleshoot the issue. It's also really important to call out from the scenario is the text didn't make the user feel silly for not realizing the screens brightness was down."
   ]
  },
  {
   "cell_type": "markdown",
   "metadata": {},
   "source": [
    "Pitfall  \n",
    "Going into autopilot  \n",
    "Not finding the root cause  "
   ]
  },
  {
   "cell_type": "markdown",
   "metadata": {},
   "source": [
    "## Customer Service"
   ]
  },
  {
   "cell_type": "markdown",
   "metadata": {},
   "source": [
    "In IT support, you work with users to fix technology and improve how people use it. To accomplish this, you need to develop a trust between you and the user."
   ]
  },
  {
   "cell_type": "markdown",
   "metadata": {},
   "source": [
    "Empathy and acknowledgement are a big part of building trust. Without these, you'll find it difficult to connect with the user."
   ]
  },
  {
   "cell_type": "markdown",
   "metadata": {},
   "source": [
    "Be honest with the user, even if you think they won't be happy about it."
   ]
  },
  {
   "cell_type": "markdown",
   "metadata": {},
   "source": [
    "Just be professional, acknowledge the user, and show them some respect."
   ]
  },
  {
   "cell_type": "markdown",
   "metadata": {},
   "source": [
    "If you're supporting a user remotely and need them to run some commands, don't forget to tell them why you need them to execute the commands."
   ]
  },
  {
   "cell_type": "markdown",
   "metadata": {},
   "source": [
    "The last 5 minutes of the interaction will set the tone for how the user feels walking away from the interaction. So, make sure to end on a positive note."
   ]
  },
  {
   "cell_type": "markdown",
   "metadata": {},
   "source": []
  },
  {
   "cell_type": "code",
   "execution_count": null,
   "metadata": {},
   "outputs": [],
   "source": []
  }
 ],
 "metadata": {
  "kernelspec": {
   "display_name": "Python 3",
   "language": "python",
   "name": "python3"
  },
  "language_info": {
   "codemirror_mode": {
    "name": "ipython",
    "version": 3
   },
   "file_extension": ".py",
   "mimetype": "text/x-python",
   "name": "python",
   "nbconvert_exporter": "python",
   "pygments_lexer": "ipython3",
   "version": "3.7.4"
  }
 },
 "nbformat": 4,
 "nbformat_minor": 2
}
